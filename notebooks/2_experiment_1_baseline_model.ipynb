{
  "cells": [
    {
      "cell_type": "code",
      "execution_count": 1,
      "metadata": {
        "colab": {
          "base_uri": "https://localhost:8080/"
        },
        "id": "Ha3O-_d__JN1",
        "outputId": "c68055cd-2418-4b64-c6f5-45e6aa374551"
      },
      "outputs": [
        {
          "name": "stdout",
          "output_type": "stream",
          "text": [
            "Requirement already satisfied: mlflow in d:\\bybappy\\youtube_sentimental_analyzer\\venv\\lib\\site-packages (2.17.0)\n",
            "Requirement already satisfied: mlflow-skinny==2.17.0 in d:\\bybappy\\youtube_sentimental_analyzer\\venv\\lib\\site-packages (from mlflow) (2.17.0)\n",
            "Requirement already satisfied: Flask<4 in d:\\bybappy\\youtube_sentimental_analyzer\\venv\\lib\\site-packages (from mlflow) (3.0.3)\n",
            "Requirement already satisfied: alembic!=1.10.0,<2 in d:\\bybappy\\youtube_sentimental_analyzer\\venv\\lib\\site-packages (from mlflow) (1.16.4)\n",
            "Requirement already satisfied: docker<8,>=4.0.0 in d:\\bybappy\\youtube_sentimental_analyzer\\venv\\lib\\site-packages (from mlflow) (7.1.0)\n",
            "Requirement already satisfied: graphene<4 in d:\\bybappy\\youtube_sentimental_analyzer\\venv\\lib\\site-packages (from mlflow) (3.4.3)\n",
            "Requirement already satisfied: markdown<4,>=3.3 in d:\\bybappy\\youtube_sentimental_analyzer\\venv\\lib\\site-packages (from mlflow) (3.8.2)\n",
            "Requirement already satisfied: matplotlib<4 in d:\\bybappy\\youtube_sentimental_analyzer\\venv\\lib\\site-packages (from mlflow) (3.9.2)\n",
            "Requirement already satisfied: numpy<3 in d:\\bybappy\\youtube_sentimental_analyzer\\venv\\lib\\site-packages (from mlflow) (1.24.4)\n",
            "Requirement already satisfied: pandas<3 in d:\\bybappy\\youtube_sentimental_analyzer\\venv\\lib\\site-packages (from mlflow) (2.2.3)\n",
            "Requirement already satisfied: pyarrow<18,>=4.0.0 in d:\\bybappy\\youtube_sentimental_analyzer\\venv\\lib\\site-packages (from mlflow) (17.0.0)\n",
            "Requirement already satisfied: scikit-learn<2 in c:\\users\\btirk\\appdata\\roaming\\python\\python311\\site-packages (from mlflow) (1.6.1)\n",
            "Requirement already satisfied: scipy<2 in c:\\users\\btirk\\appdata\\roaming\\python\\python311\\site-packages (from mlflow) (1.15.2)\n",
            "Requirement already satisfied: sqlalchemy<3,>=1.4.0 in d:\\bybappy\\youtube_sentimental_analyzer\\venv\\lib\\site-packages (from mlflow) (2.0.41)\n",
            "Requirement already satisfied: Jinja2<4,>=3.0 in c:\\users\\btirk\\appdata\\roaming\\python\\python311\\site-packages (from mlflow) (3.1.6)\n",
            "Requirement already satisfied: waitress<4 in d:\\bybappy\\youtube_sentimental_analyzer\\venv\\lib\\site-packages (from mlflow) (3.0.2)\n",
            "Requirement already satisfied: cachetools<6,>=5.0.0 in d:\\bybappy\\youtube_sentimental_analyzer\\venv\\lib\\site-packages (from mlflow-skinny==2.17.0->mlflow) (5.5.2)\n",
            "Requirement already satisfied: click<9,>=7.0 in c:\\users\\btirk\\appdata\\roaming\\python\\python311\\site-packages (from mlflow-skinny==2.17.0->mlflow) (8.1.8)\n",
            "Requirement already satisfied: cloudpickle<4 in d:\\bybappy\\youtube_sentimental_analyzer\\venv\\lib\\site-packages (from mlflow-skinny==2.17.0->mlflow) (3.1.1)\n",
            "Requirement already satisfied: databricks-sdk<1,>=0.20.0 in d:\\bybappy\\youtube_sentimental_analyzer\\venv\\lib\\site-packages (from mlflow-skinny==2.17.0->mlflow) (0.58.0)\n",
            "Requirement already satisfied: gitpython<4,>=3.1.9 in d:\\bybappy\\youtube_sentimental_analyzer\\venv\\lib\\site-packages (from mlflow-skinny==2.17.0->mlflow) (3.1.44)\n",
            "Requirement already satisfied: importlib-metadata!=4.7.0,<9,>=3.7.0 in d:\\bybappy\\youtube_sentimental_analyzer\\venv\\lib\\site-packages (from mlflow-skinny==2.17.0->mlflow) (8.7.0)\n",
            "Requirement already satisfied: opentelemetry-api<3,>=1.9.0 in d:\\bybappy\\youtube_sentimental_analyzer\\venv\\lib\\site-packages (from mlflow-skinny==2.17.0->mlflow) (1.35.0)\n",
            "Requirement already satisfied: opentelemetry-sdk<3,>=1.9.0 in d:\\bybappy\\youtube_sentimental_analyzer\\venv\\lib\\site-packages (from mlflow-skinny==2.17.0->mlflow) (1.35.0)\n",
            "Requirement already satisfied: packaging<25 in c:\\users\\btirk\\appdata\\roaming\\python\\python311\\site-packages (from mlflow-skinny==2.17.0->mlflow) (24.2)\n",
            "Requirement already satisfied: protobuf<6,>=3.12.0 in d:\\bybappy\\youtube_sentimental_analyzer\\venv\\lib\\site-packages (from mlflow-skinny==2.17.0->mlflow) (5.29.5)\n",
            "Requirement already satisfied: pyyaml<7,>=5.1 in c:\\users\\btirk\\appdata\\roaming\\python\\python311\\site-packages (from mlflow-skinny==2.17.0->mlflow) (6.0.2)\n",
            "Requirement already satisfied: requests<3,>=2.17.3 in c:\\users\\btirk\\appdata\\roaming\\python\\python311\\site-packages (from mlflow-skinny==2.17.0->mlflow) (2.32.3)\n",
            "Requirement already satisfied: sqlparse<1,>=0.4.0 in d:\\bybappy\\youtube_sentimental_analyzer\\venv\\lib\\site-packages (from mlflow-skinny==2.17.0->mlflow) (0.5.3)\n",
            "Requirement already satisfied: Mako in d:\\bybappy\\youtube_sentimental_analyzer\\venv\\lib\\site-packages (from alembic!=1.10.0,<2->mlflow) (1.3.10)\n",
            "Requirement already satisfied: typing-extensions>=4.12 in c:\\users\\btirk\\appdata\\roaming\\python\\python311\\site-packages (from alembic!=1.10.0,<2->mlflow) (4.12.2)\n",
            "Requirement already satisfied: colorama in c:\\users\\btirk\\appdata\\roaming\\python\\python311\\site-packages (from click<9,>=7.0->mlflow-skinny==2.17.0->mlflow) (0.4.6)\n",
            "Requirement already satisfied: google-auth~=2.0 in d:\\bybappy\\youtube_sentimental_analyzer\\venv\\lib\\site-packages (from databricks-sdk<1,>=0.20.0->mlflow-skinny==2.17.0->mlflow) (2.40.3)\n",
            "Requirement already satisfied: pywin32>=304 in c:\\users\\btirk\\appdata\\roaming\\python\\python311\\site-packages (from docker<8,>=4.0.0->mlflow) (306)\n",
            "Requirement already satisfied: urllib3>=1.26.0 in c:\\users\\btirk\\appdata\\roaming\\python\\python311\\site-packages (from docker<8,>=4.0.0->mlflow) (2.3.0)\n",
            "Requirement already satisfied: Werkzeug>=3.0.0 in d:\\bybappy\\youtube_sentimental_analyzer\\venv\\lib\\site-packages (from Flask<4->mlflow) (3.1.3)\n",
            "Requirement already satisfied: itsdangerous>=2.1.2 in d:\\bybappy\\youtube_sentimental_analyzer\\venv\\lib\\site-packages (from Flask<4->mlflow) (2.2.0)\n",
            "Requirement already satisfied: blinker>=1.6.2 in d:\\bybappy\\youtube_sentimental_analyzer\\venv\\lib\\site-packages (from Flask<4->mlflow) (1.9.0)\n",
            "Requirement already satisfied: gitdb<5,>=4.0.1 in d:\\bybappy\\youtube_sentimental_analyzer\\venv\\lib\\site-packages (from gitpython<4,>=3.1.9->mlflow-skinny==2.17.0->mlflow) (4.0.12)\n",
            "Requirement already satisfied: smmap<6,>=3.0.1 in d:\\bybappy\\youtube_sentimental_analyzer\\venv\\lib\\site-packages (from gitdb<5,>=4.0.1->gitpython<4,>=3.1.9->mlflow-skinny==2.17.0->mlflow) (5.0.2)\n",
            "Requirement already satisfied: pyasn1-modules>=0.2.1 in d:\\bybappy\\youtube_sentimental_analyzer\\venv\\lib\\site-packages (from google-auth~=2.0->databricks-sdk<1,>=0.20.0->mlflow-skinny==2.17.0->mlflow) (0.4.2)\n",
            "Requirement already satisfied: rsa<5,>=3.1.4 in d:\\bybappy\\youtube_sentimental_analyzer\\venv\\lib\\site-packages (from google-auth~=2.0->databricks-sdk<1,>=0.20.0->mlflow-skinny==2.17.0->mlflow) (4.9.1)\n",
            "Requirement already satisfied: graphql-core<3.3,>=3.1 in d:\\bybappy\\youtube_sentimental_analyzer\\venv\\lib\\site-packages (from graphene<4->mlflow) (3.2.6)\n",
            "Requirement already satisfied: graphql-relay<3.3,>=3.1 in d:\\bybappy\\youtube_sentimental_analyzer\\venv\\lib\\site-packages (from graphene<4->mlflow) (3.2.0)\n",
            "Requirement already satisfied: python-dateutil<3,>=2.7.0 in c:\\users\\btirk\\appdata\\roaming\\python\\python311\\site-packages (from graphene<4->mlflow) (2.9.0.post0)\n",
            "Requirement already satisfied: zipp>=3.20 in d:\\bybappy\\youtube_sentimental_analyzer\\venv\\lib\\site-packages (from importlib-metadata!=4.7.0,<9,>=3.7.0->mlflow-skinny==2.17.0->mlflow) (3.23.0)\n",
            "Requirement already satisfied: MarkupSafe>=2.0 in c:\\users\\btirk\\appdata\\roaming\\python\\python311\\site-packages (from Jinja2<4,>=3.0->mlflow) (3.0.2)\n",
            "Requirement already satisfied: contourpy>=1.0.1 in c:\\users\\btirk\\appdata\\roaming\\python\\python311\\site-packages (from matplotlib<4->mlflow) (1.3.1)\n",
            "Requirement already satisfied: cycler>=0.10 in c:\\users\\btirk\\appdata\\roaming\\python\\python311\\site-packages (from matplotlib<4->mlflow) (0.12.1)\n",
            "Requirement already satisfied: fonttools>=4.22.0 in c:\\users\\btirk\\appdata\\roaming\\python\\python311\\site-packages (from matplotlib<4->mlflow) (4.56.0)\n",
            "Requirement already satisfied: kiwisolver>=1.3.1 in c:\\users\\btirk\\appdata\\roaming\\python\\python311\\site-packages (from matplotlib<4->mlflow) (1.4.8)\n",
            "Requirement already satisfied: pillow>=8 in c:\\users\\btirk\\appdata\\roaming\\python\\python311\\site-packages (from matplotlib<4->mlflow) (11.1.0)\n",
            "Requirement already satisfied: pyparsing>=2.3.1 in c:\\users\\btirk\\appdata\\roaming\\python\\python311\\site-packages (from matplotlib<4->mlflow) (3.2.1)\n",
            "Requirement already satisfied: opentelemetry-semantic-conventions==0.56b0 in d:\\bybappy\\youtube_sentimental_analyzer\\venv\\lib\\site-packages (from opentelemetry-sdk<3,>=1.9.0->mlflow-skinny==2.17.0->mlflow) (0.56b0)\n",
            "Requirement already satisfied: pytz>=2020.1 in d:\\bybappy\\youtube_sentimental_analyzer\\venv\\lib\\site-packages (from pandas<3->mlflow) (2025.2)\n",
            "Requirement already satisfied: tzdata>=2022.7 in d:\\bybappy\\youtube_sentimental_analyzer\\venv\\lib\\site-packages (from pandas<3->mlflow) (2025.2)\n",
            "Requirement already satisfied: six>=1.5 in d:\\bybappy\\youtube_sentimental_analyzer\\venv\\lib\\site-packages (from python-dateutil<3,>=2.7.0->graphene<4->mlflow) (1.17.0)\n",
            "Requirement already satisfied: charset-normalizer<4,>=2 in c:\\users\\btirk\\appdata\\roaming\\python\\python311\\site-packages (from requests<3,>=2.17.3->mlflow-skinny==2.17.0->mlflow) (3.4.1)\n",
            "Requirement already satisfied: idna<4,>=2.5 in c:\\users\\btirk\\appdata\\roaming\\python\\python311\\site-packages (from requests<3,>=2.17.3->mlflow-skinny==2.17.0->mlflow) (3.10)\n",
            "Requirement already satisfied: certifi>=2017.4.17 in c:\\users\\btirk\\appdata\\roaming\\python\\python311\\site-packages (from requests<3,>=2.17.3->mlflow-skinny==2.17.0->mlflow) (2025.1.31)\n",
            "Requirement already satisfied: pyasn1>=0.1.3 in d:\\bybappy\\youtube_sentimental_analyzer\\venv\\lib\\site-packages (from rsa<5,>=3.1.4->google-auth~=2.0->databricks-sdk<1,>=0.20.0->mlflow-skinny==2.17.0->mlflow) (0.6.1)\n",
            "Requirement already satisfied: joblib>=1.2.0 in c:\\users\\btirk\\appdata\\roaming\\python\\python311\\site-packages (from scikit-learn<2->mlflow) (1.4.2)\n",
            "Requirement already satisfied: threadpoolctl>=3.1.0 in c:\\users\\btirk\\appdata\\roaming\\python\\python311\\site-packages (from scikit-learn<2->mlflow) (3.6.0)\n",
            "Requirement already satisfied: greenlet>=1 in d:\\bybappy\\youtube_sentimental_analyzer\\venv\\lib\\site-packages (from sqlalchemy<3,>=1.4.0->mlflow) (3.2.3)\n"
          ]
        }
      ],
      "source": [
        "!pip install mlflow"
      ]
    },
    {
      "cell_type": "markdown",
      "metadata": {
        "id": "jxF2nsOGSUgr"
      },
      "source": [
        "## All required commands to install MLflow on EC2:\n",
        "\n",
        "https://github.com/entbappy/MLflow-Basic-Demo"
      ]
    },
    {
      "cell_type": "code",
      "execution_count": 2,
      "metadata": {},
      "outputs": [],
      "source": [
        "import os"
      ]
    },
    {
      "cell_type": "code",
      "execution_count": 3,
      "metadata": {},
      "outputs": [],
      "source": [
        "import mlflow"
      ]
    },
    {
      "cell_type": "code",
      "execution_count": 4,
      "metadata": {},
      "outputs": [],
      "source": [
        "mlflow.set_tracking_uri(os.getenv(\"MLFLOW_SERVER_TRACKING_URI_EC2\"))"
      ]
    },
    {
      "cell_type": "code",
      "execution_count": 5,
      "metadata": {
        "id": "gT5_m6-_Rrad"
      },
      "outputs": [],
      "source": [
        "#creating baseline model\n",
        "\n",
        "import numpy as np\n",
        "import pandas as pd"
      ]
    },
    {
      "cell_type": "code",
      "execution_count": 6,
      "metadata": {
        "colab": {
          "base_uri": "https://localhost:8080/",
          "height": 206
        },
        "id": "u3hxNz36b6_7",
        "outputId": "08ec721a-a126-46ad-f93b-bbdd7e0e14a7"
      },
      "outputs": [
        {
          "data": {
            "text/html": [
              "<div>\n",
              "<style scoped>\n",
              "    .dataframe tbody tr th:only-of-type {\n",
              "        vertical-align: middle;\n",
              "    }\n",
              "\n",
              "    .dataframe tbody tr th {\n",
              "        vertical-align: top;\n",
              "    }\n",
              "\n",
              "    .dataframe thead th {\n",
              "        text-align: right;\n",
              "    }\n",
              "</style>\n",
              "<table border=\"1\" class=\"dataframe\">\n",
              "  <thead>\n",
              "    <tr style=\"text-align: right;\">\n",
              "      <th></th>\n",
              "      <th>clean_comment</th>\n",
              "      <th>category</th>\n",
              "    </tr>\n",
              "  </thead>\n",
              "  <tbody>\n",
              "    <tr>\n",
              "      <th>0</th>\n",
              "      <td>family mormon have never tried explain them t...</td>\n",
              "      <td>1</td>\n",
              "    </tr>\n",
              "    <tr>\n",
              "      <th>1</th>\n",
              "      <td>buddhism has very much lot compatible with chr...</td>\n",
              "      <td>1</td>\n",
              "    </tr>\n",
              "    <tr>\n",
              "      <th>2</th>\n",
              "      <td>seriously don say thing first all they won get...</td>\n",
              "      <td>-1</td>\n",
              "    </tr>\n",
              "    <tr>\n",
              "      <th>3</th>\n",
              "      <td>what you have learned yours and only yours wha...</td>\n",
              "      <td>0</td>\n",
              "    </tr>\n",
              "    <tr>\n",
              "      <th>4</th>\n",
              "      <td>for your own benefit you may want read living ...</td>\n",
              "      <td>1</td>\n",
              "    </tr>\n",
              "  </tbody>\n",
              "</table>\n",
              "</div>"
            ],
            "text/plain": [
              "                                       clean_comment  category\n",
              "0   family mormon have never tried explain them t...         1\n",
              "1  buddhism has very much lot compatible with chr...         1\n",
              "2  seriously don say thing first all they won get...        -1\n",
              "3  what you have learned yours and only yours wha...         0\n",
              "4  for your own benefit you may want read living ...         1"
            ]
          },
          "execution_count": 6,
          "metadata": {},
          "output_type": "execute_result"
        }
      ],
      "source": [
        "df = pd.read_csv('https://raw.githubusercontent.com/Himanshu-1703/reddit-sentiment-analysis/refs/heads/main/data/reddit.csv')\n",
        "df.head()"
      ]
    },
    {
      "cell_type": "code",
      "execution_count": 7,
      "metadata": {
        "id": "-Apko0jpb87p"
      },
      "outputs": [],
      "source": [
        "df.dropna(inplace=True)"
      ]
    },
    {
      "cell_type": "code",
      "execution_count": 8,
      "metadata": {
        "id": "BIzRs9YZcAlR"
      },
      "outputs": [],
      "source": [
        "df.drop_duplicates(inplace=True)"
      ]
    },
    {
      "cell_type": "code",
      "execution_count": 9,
      "metadata": {
        "id": "BDy25RHPcDQH"
      },
      "outputs": [],
      "source": [
        "df = df[~(df['clean_comment'].str.strip() == '')]"
      ]
    },
    {
      "cell_type": "code",
      "execution_count": 10,
      "metadata": {
        "id": "RS5937JRcFZY"
      },
      "outputs": [],
      "source": [
        "import re\n",
        "import nltk\n",
        "from nltk.corpus import stopwords\n",
        "from nltk.stem import WordNetLemmatizer"
      ]
    },
    {
      "cell_type": "code",
      "execution_count": 11,
      "metadata": {
        "colab": {
          "base_uri": "https://localhost:8080/"
        },
        "id": "j_um_s1pc2Bo",
        "outputId": "f6c8a40d-1140-47fc-9177-9c894e94dcb8"
      },
      "outputs": [
        {
          "name": "stderr",
          "output_type": "stream",
          "text": [
            "[nltk_data] Downloading package stopwords to\n",
            "[nltk_data]     C:\\Users\\btirk\\AppData\\Roaming\\nltk_data...\n",
            "[nltk_data]   Package stopwords is already up-to-date!\n",
            "[nltk_data] Downloading package wordnet to\n",
            "[nltk_data]     C:\\Users\\btirk\\AppData\\Roaming\\nltk_data...\n",
            "[nltk_data]   Package wordnet is already up-to-date!\n"
          ]
        },
        {
          "data": {
            "text/plain": [
              "True"
            ]
          },
          "execution_count": 11,
          "metadata": {},
          "output_type": "execute_result"
        }
      ],
      "source": [
        "# Ensure necessary NLTK data is downloaded\n",
        "nltk.download('stopwords')\n",
        "nltk.download('wordnet')"
      ]
    },
    {
      "cell_type": "code",
      "execution_count": 12,
      "metadata": {
        "id": "zsbpkHfIc39y"
      },
      "outputs": [],
      "source": [
        "# Define the preprocessing function\n",
        "def preprocess_comment(comment):\n",
        "    # Convert to lowercase\n",
        "    comment = comment.lower()\n",
        "\n",
        "    # Remove trailing and leading whitespaces\n",
        "    comment = comment.strip()\n",
        "\n",
        "    # Remove newline characters\n",
        "    comment = re.sub(r'\\n', ' ', comment)\n",
        "\n",
        "    # Remove non-alphanumeric characters, except punctuation\n",
        "    comment = re.sub(r'[^A-Za-z0-9\\s!?.,]', '', comment)\n",
        "\n",
        "    # Remove stopwords but retain important ones for sentiment analysis\n",
        "    stop_words = set(stopwords.words('english')) - {'not', 'but', 'however', 'no', 'yet'}\n",
        "    comment = ' '.join([word for word in comment.split() if word not in stop_words])\n",
        "\n",
        "    # Lemmatize the words\n",
        "    lemmatizer = WordNetLemmatizer()\n",
        "    comment = ' '.join([lemmatizer.lemmatize(word) for word in comment.split()])\n",
        "\n",
        "    return comment"
      ]
    },
    {
      "cell_type": "code",
      "execution_count": 13,
      "metadata": {
        "id": "3I0cY3nNc6wK"
      },
      "outputs": [],
      "source": [
        "# Apply the preprocessing function to the 'clean_comment' column\n",
        "df['clean_comment'] = df['clean_comment'].apply(preprocess_comment)"
      ]
    },
    {
      "cell_type": "code",
      "execution_count": 14,
      "metadata": {
        "colab": {
          "base_uri": "https://localhost:8080/",
          "height": 206
        },
        "id": "rQoUyz9Rc9Az",
        "outputId": "d20cae31-272b-4bf8-d706-47f8f632117a"
      },
      "outputs": [
        {
          "data": {
            "text/html": [
              "<div>\n",
              "<style scoped>\n",
              "    .dataframe tbody tr th:only-of-type {\n",
              "        vertical-align: middle;\n",
              "    }\n",
              "\n",
              "    .dataframe tbody tr th {\n",
              "        vertical-align: top;\n",
              "    }\n",
              "\n",
              "    .dataframe thead th {\n",
              "        text-align: right;\n",
              "    }\n",
              "</style>\n",
              "<table border=\"1\" class=\"dataframe\">\n",
              "  <thead>\n",
              "    <tr style=\"text-align: right;\">\n",
              "      <th></th>\n",
              "      <th>clean_comment</th>\n",
              "      <th>category</th>\n",
              "    </tr>\n",
              "  </thead>\n",
              "  <tbody>\n",
              "    <tr>\n",
              "      <th>0</th>\n",
              "      <td>family mormon never tried explain still stare ...</td>\n",
              "      <td>1</td>\n",
              "    </tr>\n",
              "    <tr>\n",
              "      <th>1</th>\n",
              "      <td>buddhism much lot compatible christianity espe...</td>\n",
              "      <td>1</td>\n",
              "    </tr>\n",
              "    <tr>\n",
              "      <th>2</th>\n",
              "      <td>seriously say thing first get complex explain ...</td>\n",
              "      <td>-1</td>\n",
              "    </tr>\n",
              "    <tr>\n",
              "      <th>3</th>\n",
              "      <td>learned want teach different focus goal not wr...</td>\n",
              "      <td>0</td>\n",
              "    </tr>\n",
              "    <tr>\n",
              "      <th>4</th>\n",
              "      <td>benefit may want read living buddha living chr...</td>\n",
              "      <td>1</td>\n",
              "    </tr>\n",
              "  </tbody>\n",
              "</table>\n",
              "</div>"
            ],
            "text/plain": [
              "                                       clean_comment  category\n",
              "0  family mormon never tried explain still stare ...         1\n",
              "1  buddhism much lot compatible christianity espe...         1\n",
              "2  seriously say thing first get complex explain ...        -1\n",
              "3  learned want teach different focus goal not wr...         0\n",
              "4  benefit may want read living buddha living chr...         1"
            ]
          },
          "execution_count": 14,
          "metadata": {},
          "output_type": "execute_result"
        }
      ],
      "source": [
        "df.head()"
      ]
    },
    {
      "cell_type": "code",
      "execution_count": 15,
      "metadata": {
        "id": "GRF5A1ZCdBck"
      },
      "outputs": [],
      "source": [
        "import mlflow\n",
        "import mlflow.sklearn\n",
        "from sklearn.ensemble import RandomForestClassifier\n",
        "from sklearn.feature_extraction.text import CountVectorizer\n",
        "from sklearn.model_selection import train_test_split, cross_val_predict, StratifiedKFold\n",
        "from sklearn.metrics import accuracy_score, classification_report, confusion_matrix\n",
        "import pandas as pd\n",
        "import matplotlib.pyplot as plt\n",
        "import seaborn as sns"
      ]
    },
    {
      "cell_type": "code",
      "execution_count": 16,
      "metadata": {
        "id": "EAKFpLNig7B2"
      },
      "outputs": [],
      "source": [
        "# Step 1: Vectorize the comments using Bag of Words (CountVectorizer)\n",
        "vectorizer = CountVectorizer(max_features=10000)  # Bag of Words model with a limit of 1000 features"
      ]
    },
    {
      "cell_type": "code",
      "execution_count": 17,
      "metadata": {
        "id": "DEbBOYO9g-jq"
      },
      "outputs": [],
      "source": [
        "X = vectorizer.fit_transform(df['clean_comment']).toarray()\n",
        "y = df['category']  # Assuming 'sentiment' is the target variable (0 or 1 for binary classification)"
      ]
    },
    {
      "cell_type": "code",
      "execution_count": 18,
      "metadata": {
        "colab": {
          "base_uri": "https://localhost:8080/"
        },
        "id": "_clGUqHEhBf0",
        "outputId": "c0d2cbca-0a55-4222-aac3-9528d347009c"
      },
      "outputs": [
        {
          "data": {
            "text/plain": [
              "array([[0, 0, 0, ..., 0, 0, 0],\n",
              "       [0, 0, 0, ..., 0, 0, 0],\n",
              "       [0, 0, 0, ..., 0, 0, 0],\n",
              "       ...,\n",
              "       [0, 0, 0, ..., 0, 0, 0],\n",
              "       [0, 0, 0, ..., 0, 0, 0],\n",
              "       [0, 0, 0, ..., 0, 0, 0]], dtype=int64)"
            ]
          },
          "execution_count": 18,
          "metadata": {},
          "output_type": "execute_result"
        }
      ],
      "source": [
        "X"
      ]
    },
    {
      "cell_type": "code",
      "execution_count": 19,
      "metadata": {
        "colab": {
          "base_uri": "https://localhost:8080/"
        },
        "id": "SFtHOYDehF3A",
        "outputId": "4e4dd084-9628-4dcc-bbeb-399d1b87c2f2"
      },
      "outputs": [
        {
          "data": {
            "text/plain": [
              "(36793, 10000)"
            ]
          },
          "execution_count": 19,
          "metadata": {},
          "output_type": "execute_result"
        }
      ],
      "source": [
        "X.shape"
      ]
    },
    {
      "cell_type": "code",
      "execution_count": 20,
      "metadata": {
        "colab": {
          "base_uri": "https://localhost:8080/",
          "height": 458
        },
        "id": "bXvMvOOshMlc",
        "outputId": "49cab91a-bba7-49c0-d5fe-9e587ba88ee9"
      },
      "outputs": [
        {
          "data": {
            "text/plain": [
              "0        1\n",
              "1        1\n",
              "2       -1\n",
              "3        0\n",
              "4        1\n",
              "        ..\n",
              "37244    0\n",
              "37245    1\n",
              "37246    0\n",
              "37247    1\n",
              "37248    0\n",
              "Name: category, Length: 36793, dtype: int64"
            ]
          },
          "execution_count": 20,
          "metadata": {},
          "output_type": "execute_result"
        }
      ],
      "source": [
        "y"
      ]
    },
    {
      "cell_type": "code",
      "execution_count": 21,
      "metadata": {
        "colab": {
          "base_uri": "https://localhost:8080/"
        },
        "id": "efCnt68yhNs8",
        "outputId": "87ec24ee-b4fc-4a96-cd5a-f64dc284f799"
      },
      "outputs": [
        {
          "data": {
            "text/plain": [
              "(36793,)"
            ]
          },
          "execution_count": 21,
          "metadata": {},
          "output_type": "execute_result"
        }
      ],
      "source": [
        "y.shape"
      ]
    },
    {
      "cell_type": "code",
      "execution_count": 22,
      "metadata": {
        "id": "op6TubXQhPfw"
      },
      "outputs": [],
      "source": [
        "# Step 2: Set up the MLflow tracking server\n",
        "mlflow.set_tracking_uri(os.getenv(\"MLFLOW_SERVER_TRACKING_URI_EC2\"))"
      ]
    },
    {
      "cell_type": "code",
      "execution_count": 24,
      "metadata": {},
      "outputs": [
        {
          "data": {
            "text/plain": [
              "'import os\\nprint(os.getenv(\"MLFLOW_SERVER_TRACKING_URI_EC2\"))'"
            ]
          },
          "execution_count": 24,
          "metadata": {},
          "output_type": "execute_result"
        }
      ],
      "source": [
        "\"\"\"import os\n",
        "print(os.getenv(\"MLFLOW_SERVER_TRACKING_URI_EC2\"))\n",
        "\n",
        "just to verify the links \n",
        "\"\"\" "
      ]
    },
    {
      "cell_type": "code",
      "execution_count": 25,
      "metadata": {
        "colab": {
          "base_uri": "https://localhost:8080/"
        },
        "id": "PIyYuCwVhUeE",
        "outputId": "532fb4d7-541f-49c3-f6e1-c4d746eebb9b"
      },
      "outputs": [
        {
          "name": "stderr",
          "output_type": "stream",
          "text": [
            "2025/07/16 17:55:19 INFO mlflow.tracking.fluent: Experiment with name 'RF Baseline' does not exist. Creating a new experiment.\n"
          ]
        },
        {
          "data": {
            "text/plain": [
              "<Experiment: artifact_location='s3://youtube-sentimental-bucket/712097248536319154', creation_time=1752668723299, experiment_id='712097248536319154', last_update_time=1752668723299, lifecycle_stage='active', name='RF Baseline', tags={}>"
            ]
          },
          "execution_count": 25,
          "metadata": {},
          "output_type": "execute_result"
        }
      ],
      "source": [
        "# Set or create an experiment\n",
        "mlflow.set_experiment(\"RF Baseline\")"
      ]
    },
    {
      "cell_type": "code",
      "execution_count": 26,
      "metadata": {
        "colab": {
          "base_uri": "https://localhost:8080/"
        },
        "id": "QOJLJ57N4lso",
        "outputId": "280f17b0-ae0a-4626-cc58-57db89f51b5e"
      },
      "outputs": [
        {
          "name": "stdout",
          "output_type": "stream",
          "text": [
            "Requirement already satisfied: boto3 in d:\\bybappy\\youtube_sentimental_analyzer\\venv\\lib\\site-packages (1.35.36)\n",
            "Requirement already satisfied: botocore<1.36.0,>=1.35.36 in d:\\bybappy\\youtube_sentimental_analyzer\\venv\\lib\\site-packages (from boto3) (1.35.36)\n",
            "Requirement already satisfied: jmespath<2.0.0,>=0.7.1 in c:\\users\\btirk\\appdata\\roaming\\python\\python311\\site-packages (from boto3) (1.0.1)\n",
            "Requirement already satisfied: s3transfer<0.11.0,>=0.10.0 in d:\\bybappy\\youtube_sentimental_analyzer\\venv\\lib\\site-packages (from boto3) (0.10.4)\n",
            "Requirement already satisfied: python-dateutil<3.0.0,>=2.1 in c:\\users\\btirk\\appdata\\roaming\\python\\python311\\site-packages (from botocore<1.36.0,>=1.35.36->boto3) (2.9.0.post0)\n",
            "Requirement already satisfied: urllib3!=2.2.0,<3,>=1.25.4 in c:\\users\\btirk\\appdata\\roaming\\python\\python311\\site-packages (from botocore<1.36.0,>=1.35.36->boto3) (2.3.0)\n",
            "Requirement already satisfied: six>=1.5 in d:\\bybappy\\youtube_sentimental_analyzer\\venv\\lib\\site-packages (from python-dateutil<3.0.0,>=2.1->botocore<1.36.0,>=1.35.36->boto3) (1.17.0)\n"
          ]
        }
      ],
      "source": [
        "!pip install boto3"
      ]
    },
    {
      "cell_type": "code",
      "execution_count": 27,
      "metadata": {
        "colab": {
          "base_uri": "https://localhost:8080/"
        },
        "id": "RKy5_QuH4m9x",
        "outputId": "b43f5721-5fa2-4729-b727-149ac75f1bc0"
      },
      "outputs": [
        {
          "name": "stdout",
          "output_type": "stream",
          "text": [
            "Collecting awscli\n",
            "  Downloading awscli-1.41.6-py3-none-any.whl.metadata (11 kB)\n",
            "Collecting botocore==1.39.6 (from awscli)\n",
            "  Downloading botocore-1.39.6-py3-none-any.whl.metadata (5.7 kB)\n",
            "Collecting docutils<=0.19,>=0.18.1 (from awscli)\n",
            "  Downloading docutils-0.19-py3-none-any.whl.metadata (2.7 kB)\n",
            "Collecting s3transfer<0.14.0,>=0.13.0 (from awscli)\n",
            "  Downloading s3transfer-0.13.0-py3-none-any.whl.metadata (1.7 kB)\n",
            "Requirement already satisfied: PyYAML<6.1,>=3.10 in c:\\users\\btirk\\appdata\\roaming\\python\\python311\\site-packages (from awscli) (6.0.2)\n",
            "Requirement already satisfied: colorama<0.4.7,>=0.2.5 in c:\\users\\btirk\\appdata\\roaming\\python\\python311\\site-packages (from awscli) (0.4.6)\n",
            "Collecting rsa<4.8,>=3.1.2 (from awscli)\n",
            "  Downloading rsa-4.7.2-py3-none-any.whl.metadata (3.6 kB)\n",
            "Requirement already satisfied: jmespath<2.0.0,>=0.7.1 in c:\\users\\btirk\\appdata\\roaming\\python\\python311\\site-packages (from botocore==1.39.6->awscli) (1.0.1)\n",
            "Requirement already satisfied: python-dateutil<3.0.0,>=2.1 in c:\\users\\btirk\\appdata\\roaming\\python\\python311\\site-packages (from botocore==1.39.6->awscli) (2.9.0.post0)\n",
            "Requirement already satisfied: urllib3!=2.2.0,<3,>=1.25.4 in c:\\users\\btirk\\appdata\\roaming\\python\\python311\\site-packages (from botocore==1.39.6->awscli) (2.3.0)\n",
            "Requirement already satisfied: six>=1.5 in d:\\bybappy\\youtube_sentimental_analyzer\\venv\\lib\\site-packages (from python-dateutil<3.0.0,>=2.1->botocore==1.39.6->awscli) (1.17.0)\n",
            "Requirement already satisfied: pyasn1>=0.1.3 in d:\\bybappy\\youtube_sentimental_analyzer\\venv\\lib\\site-packages (from rsa<4.8,>=3.1.2->awscli) (0.6.1)\n",
            "Downloading awscli-1.41.6-py3-none-any.whl (4.7 MB)\n",
            "   ---------------------------------------- 0.0/4.7 MB ? eta -:--:--\n",
            "   ----------------------------------- ---- 4.2/4.7 MB 20.9 MB/s eta 0:00:01\n",
            "   ---------------------------------------- 4.7/4.7 MB 21.9 MB/s eta 0:00:00\n",
            "Downloading botocore-1.39.6-py3-none-any.whl (13.8 MB)\n",
            "   ---------------------------------------- 0.0/13.8 MB ? eta -:--:--\n",
            "   ------------- -------------------------- 4.7/13.8 MB 23.8 MB/s eta 0:00:01\n",
            "   -------------------------- ------------- 9.2/13.8 MB 22.9 MB/s eta 0:00:01\n",
            "   ---------------------------------------- 13.8/13.8 MB 23.5 MB/s eta 0:00:00\n",
            "Downloading docutils-0.19-py3-none-any.whl (570 kB)\n",
            "   ---------------------------------------- 0.0/570.5 kB ? eta -:--:--\n",
            "   ---------------------------------------- 570.5/570.5 kB ? eta 0:00:00\n",
            "Downloading rsa-4.7.2-py3-none-any.whl (34 kB)\n",
            "Downloading s3transfer-0.13.0-py3-none-any.whl (85 kB)\n",
            "Installing collected packages: rsa, docutils, botocore, s3transfer, awscli\n",
            "\n",
            "  Attempting uninstall: rsa\n",
            "\n",
            "    Found existing installation: rsa 4.9.1\n",
            "\n",
            "    Uninstalling rsa-4.9.1:\n",
            "\n",
            "   ---------------------------------------- 0/5 [rsa]\n",
            "   ---------------------------------------- 0/5 [rsa]\n",
            "   ---------------------------------------- 0/5 [rsa]\n",
            "      Successfully uninstalled rsa-4.9.1\n",
            "   ---------------------------------------- 0/5 [rsa]\n",
            "   ---------------------------------------- 0/5 [rsa]\n",
            "   ---------------------------------------- 0/5 [rsa]\n",
            "   ---------------------------------------- 0/5 [rsa]\n",
            "   ---------------------------------------- 0/5 [rsa]\n",
            "   ---------------------------------------- 0/5 [rsa]\n",
            "   -------- ------------------------------- 1/5 [docutils]\n",
            "   -------- ------------------------------- 1/5 [docutils]\n",
            "   -------- ------------------------------- 1/5 [docutils]\n",
            "   -------- ------------------------------- 1/5 [docutils]\n",
            "   -------- ------------------------------- 1/5 [docutils]\n",
            "   -------- ------------------------------- 1/5 [docutils]\n",
            "   -------- ------------------------------- 1/5 [docutils]\n",
            "   -------- ------------------------------- 1/5 [docutils]\n",
            "   -------- ------------------------------- 1/5 [docutils]\n",
            "   -------- ------------------------------- 1/5 [docutils]\n",
            "   -------- ------------------------------- 1/5 [docutils]\n",
            "   -------- ------------------------------- 1/5 [docutils]\n",
            "   -------- ------------------------------- 1/5 [docutils]\n",
            "   -------- ------------------------------- 1/5 [docutils]\n",
            "   -------- ------------------------------- 1/5 [docutils]\n",
            "   -------- ------------------------------- 1/5 [docutils]\n",
            "   -------- ------------------------------- 1/5 [docutils]\n",
            "   -------- ------------------------------- 1/5 [docutils]\n",
            "  Attempting uninstall: botocore\n",
            "   -------- ------------------------------- 1/5 [docutils]\n",
            "    Found existing installation: botocore 1.35.36\n",
            "   -------- ------------------------------- 1/5 [docutils]\n",
            "   ---------------- ----------------------- 2/5 [botocore]\n",
            "   ---------------- ----------------------- 2/5 [botocore]\n",
            "   ---------------- ----------------------- 2/5 [botocore]\n",
            "    Uninstalling botocore-1.35.36:\n",
            "   ---------------- ----------------------- 2/5 [botocore]\n",
            "      Successfully uninstalled botocore-1.35.36\n",
            "   ---------------- ----------------------- 2/5 [botocore]\n",
            "   ---------------- ----------------------- 2/5 [botocore]\n",
            "   ---------------- ----------------------- 2/5 [botocore]\n",
            "   ---------------- ----------------------- 2/5 [botocore]\n",
            "   ---------------- ----------------------- 2/5 [botocore]\n",
            "   ---------------- ----------------------- 2/5 [botocore]\n",
            "   ---------------- ----------------------- 2/5 [botocore]\n",
            "   ---------------- ----------------------- 2/5 [botocore]\n",
            "   ---------------- ----------------------- 2/5 [botocore]\n",
            "   ---------------- ----------------------- 2/5 [botocore]\n",
            "   ---------------- ----------------------- 2/5 [botocore]\n",
            "   ---------------- ----------------------- 2/5 [botocore]\n",
            "   ---------------- ----------------------- 2/5 [botocore]\n",
            "   ---------------- ----------------------- 2/5 [botocore]\n",
            "   ---------------- ----------------------- 2/5 [botocore]\n",
            "   ---------------- ----------------------- 2/5 [botocore]\n",
            "   ---------------- ----------------------- 2/5 [botocore]\n",
            "   ---------------- ----------------------- 2/5 [botocore]\n",
            "   ---------------- ----------------------- 2/5 [botocore]\n",
            "   ---------------- ----------------------- 2/5 [botocore]\n",
            "   ---------------- ----------------------- 2/5 [botocore]\n",
            "   ---------------- ----------------------- 2/5 [botocore]\n",
            "   ---------------- ----------------------- 2/5 [botocore]\n",
            "  Attempting uninstall: s3transfer\n",
            "   ---------------- ----------------------- 2/5 [botocore]\n",
            "    Found existing installation: s3transfer 0.10.4\n",
            "   ---------------- ----------------------- 2/5 [botocore]\n",
            "    Uninstalling s3transfer-0.10.4:\n",
            "   ---------------- ----------------------- 2/5 [botocore]\n",
            "      Successfully uninstalled s3transfer-0.10.4\n",
            "   ---------------- ----------------------- 2/5 [botocore]\n",
            "   ------------------------ --------------- 3/5 [s3transfer]\n",
            "   ------------------------ --------------- 3/5 [s3transfer]\n",
            "   -------------------------------- ------- 4/5 [awscli]\n",
            "   -------------------------------- ------- 4/5 [awscli]\n",
            "   -------------------------------- ------- 4/5 [awscli]\n",
            "   -------------------------------- ------- 4/5 [awscli]\n",
            "   -------------------------------- ------- 4/5 [awscli]\n",
            "   -------------------------------- ------- 4/5 [awscli]\n",
            "   -------------------------------- ------- 4/5 [awscli]\n",
            "   -------------------------------- ------- 4/5 [awscli]\n",
            "   -------------------------------- ------- 4/5 [awscli]\n",
            "   -------------------------------- ------- 4/5 [awscli]\n",
            "   -------------------------------- ------- 4/5 [awscli]\n",
            "   -------------------------------- ------- 4/5 [awscli]\n",
            "   -------------------------------- ------- 4/5 [awscli]\n",
            "   -------------------------------- ------- 4/5 [awscli]\n",
            "   -------------------------------- ------- 4/5 [awscli]\n",
            "   -------------------------------- ------- 4/5 [awscli]\n",
            "   -------------------------------- ------- 4/5 [awscli]\n",
            "   -------------------------------- ------- 4/5 [awscli]\n",
            "   -------------------------------- ------- 4/5 [awscli]\n",
            "   -------------------------------- ------- 4/5 [awscli]\n",
            "   -------------------------------- ------- 4/5 [awscli]\n",
            "   -------------------------------- ------- 4/5 [awscli]\n",
            "   -------------------------------- ------- 4/5 [awscli]\n",
            "   -------------------------------- ------- 4/5 [awscli]\n",
            "   -------------------------------- ------- 4/5 [awscli]\n",
            "   -------------------------------- ------- 4/5 [awscli]\n",
            "   -------------------------------- ------- 4/5 [awscli]\n",
            "   -------------------------------- ------- 4/5 [awscli]\n",
            "   -------------------------------- ------- 4/5 [awscli]\n",
            "   -------------------------------- ------- 4/5 [awscli]\n",
            "   -------------------------------- ------- 4/5 [awscli]\n",
            "   -------------------------------- ------- 4/5 [awscli]\n",
            "   -------------------------------- ------- 4/5 [awscli]\n",
            "   -------------------------------- ------- 4/5 [awscli]\n",
            "   -------------------------------- ------- 4/5 [awscli]\n",
            "   -------------------------------- ------- 4/5 [awscli]\n",
            "   -------------------------------- ------- 4/5 [awscli]\n",
            "   -------------------------------- ------- 4/5 [awscli]\n",
            "   -------------------------------- ------- 4/5 [awscli]\n",
            "   -------------------------------- ------- 4/5 [awscli]\n",
            "   -------------------------------- ------- 4/5 [awscli]\n",
            "   -------------------------------- ------- 4/5 [awscli]\n",
            "   -------------------------------- ------- 4/5 [awscli]\n",
            "   -------------------------------- ------- 4/5 [awscli]\n",
            "   -------------------------------- ------- 4/5 [awscli]\n",
            "   -------------------------------- ------- 4/5 [awscli]\n",
            "   -------------------------------- ------- 4/5 [awscli]\n",
            "   -------------------------------- ------- 4/5 [awscli]\n",
            "   -------------------------------- ------- 4/5 [awscli]\n",
            "   -------------------------------- ------- 4/5 [awscli]\n",
            "   -------------------------------- ------- 4/5 [awscli]\n",
            "   -------------------------------- ------- 4/5 [awscli]\n",
            "   -------------------------------- ------- 4/5 [awscli]\n",
            "   -------------------------------- ------- 4/5 [awscli]\n",
            "   -------------------------------- ------- 4/5 [awscli]\n",
            "   -------------------------------- ------- 4/5 [awscli]\n",
            "   -------------------------------- ------- 4/5 [awscli]\n",
            "   -------------------------------- ------- 4/5 [awscli]\n",
            "   -------------------------------- ------- 4/5 [awscli]\n",
            "   -------------------------------- ------- 4/5 [awscli]\n",
            "   -------------------------------- ------- 4/5 [awscli]\n",
            "   -------------------------------- ------- 4/5 [awscli]\n",
            "   -------------------------------- ------- 4/5 [awscli]\n",
            "   ---------------------------------------- 5/5 [awscli]\n",
            "\n",
            "Successfully installed awscli-1.41.6 botocore-1.39.6 docutils-0.19 rsa-4.7.2 s3transfer-0.13.0\n"
          ]
        },
        {
          "name": "stderr",
          "output_type": "stream",
          "text": [
            "ERROR: pip's dependency resolver does not currently take into account all the packages that are installed. This behaviour is the source of the following dependency conflicts.\n",
            "aiobotocore 2.15.2 requires botocore<1.35.37,>=1.35.16, but you have botocore 1.39.6 which is incompatible.\n",
            "boto3 1.35.36 requires botocore<1.36.0,>=1.35.36, but you have botocore 1.39.6 which is incompatible.\n",
            "boto3 1.35.36 requires s3transfer<0.11.0,>=0.10.0, but you have s3transfer 0.13.0 which is incompatible.\n"
          ]
        }
      ],
      "source": [
        "!pip install awscli"
      ]
    },
    {
      "cell_type": "code",
      "execution_count": 30,
      "metadata": {
        "colab": {
          "base_uri": "https://localhost:8080/"
        },
        "id": "eRdwyDq44xlK",
        "outputId": "3bd7c482-be65-4892-b571-4abdbd4d0640"
      },
      "outputs": [
        {
          "name": "stdout",
          "output_type": "stream",
          "text": [
            "^C\n"
          ]
        }
      ],
      "source": [
        "# run smoothly on google collab but for vs code use teminal !aws configure"
      ]
    },
    {
      "cell_type": "code",
      "execution_count": 32,
      "metadata": {
        "colab": {
          "base_uri": "https://localhost:8080/",
          "height": 657
        },
        "id": "7CyCPT6IhWET",
        "outputId": "d5ea4aa3-99de-4640-bc76-28633c7b0aec"
      },
      "outputs": [
        {
          "name": "stderr",
          "output_type": "stream",
          "text": [
            "2025/07/16 18:26:07 WARNING mlflow.models.model: Model logged without a signature and input example. Please set `input_example` parameter when logging the model to auto infer the model signature.\n",
            "2025/07/16 18:26:16 INFO mlflow.tracking._tracking_service.client: 🏃 View run RandomForest_Baseline_TrainTestSplit at: http://ec2-54-196-196-75.compute-1.amazonaws.com:5000/#/experiments/712097248536319154/runs/2242330b8dec40d9b2f671e2be21b2bc.\n",
            "2025/07/16 18:26:16 INFO mlflow.tracking._tracking_service.client: 🧪 View experiment at: http://ec2-54-196-196-75.compute-1.amazonaws.com:5000/#/experiments/712097248536319154.\n"
          ]
        },
        {
          "name": "stdout",
          "output_type": "stream",
          "text": [
            "Accuracy: 0.6483217828509308\n"
          ]
        },
        {
          "data": {
            "image/png": "[encoded data removed]",
            "text/plain": [
              "<Figure size 800x600 with 2 Axes>"
            ]
          },
          "metadata": {},
          "output_type": "display_data"
        }
      ],
      "source": [
        "# Ensure the artifacts folder exists\n",
        "os.makedirs(\"artifacts\", exist_ok=True)\n",
        "\n",
        "# Split the data into training and testing sets (80% train, 20% test)\n",
        "X_train, X_test, y_train, y_test = train_test_split(X, y, test_size=0.2, random_state=42, stratify=y)\n",
        "\n",
        "# Define and train a Random Forest baseline model using a simple train-test split\n",
        "with mlflow.start_run() as run:\n",
        "    # Set experiment tags and metadata\n",
        "    mlflow.set_tag(\"mlflow.runName\", \"RandomForest_Baseline_TrainTestSplit\")\n",
        "    mlflow.set_tag(\"experiment_type\", \"baseline\")\n",
        "    mlflow.set_tag(\"model_type\", \"RandomForestClassifier\")\n",
        "    mlflow.set_tag(\"description\", \"Baseline RandomForest model for sentiment analysis using Bag of Words (BoW) with a simple train-test split\")\n",
        "\n",
        "    # Log vectorizer parameters (assuming you used a CountVectorizer)\n",
        "    mlflow.log_param(\"vectorizer_type\", \"CountVectorizer\")\n",
        "    mlflow.log_param(\"vectorizer_max_features\", vectorizer.max_features)\n",
        "\n",
        "    # Log Random Forest parameters\n",
        "    n_estimators = 200\n",
        "    max_depth = 15\n",
        "    mlflow.log_param(\"n_estimators\", n_estimators)\n",
        "    mlflow.log_param(\"max_depth\", max_depth)\n",
        "\n",
        "    # Train the model\n",
        "    model = RandomForestClassifier(n_estimators=n_estimators, max_depth=max_depth, random_state=42)\n",
        "    model.fit(X_train, y_train)\n",
        "\n",
        "    # Predict and evaluate\n",
        "    y_pred = model.predict(X_test)\n",
        "    accuracy = accuracy_score(y_test, y_pred)\n",
        "    mlflow.log_metric(\"accuracy\", accuracy)\n",
        "\n",
        "    # Log classification report metrics\n",
        "    classification_rep = classification_report(y_test, y_pred, output_dict=True)\n",
        "    for label, metrics in classification_rep.items():\n",
        "        if isinstance(metrics, dict):\n",
        "            for metric, value in metrics.items():\n",
        "                mlflow.log_metric(f\"{label}_{metric}\", value)\n",
        "\n",
        "    # Create and log confusion matrix plot\n",
        "    conf_matrix = confusion_matrix(y_test, y_pred)\n",
        "    plt.figure(figsize=(8, 6))\n",
        "    sns.heatmap(conf_matrix, annot=True, fmt=\"d\", cmap=\"Blues\")\n",
        "    plt.xlabel(\"Predicted\")\n",
        "    plt.ylabel(\"Actual\")\n",
        "    plt.title(\"Confusion Matrix\")\n",
        "    plt.tight_layout()\n",
        "\n",
        "    cm_path = \"artifacts/confusion_matrix.png\"\n",
        "    plt.savefig(cm_path)\n",
        "    mlflow.log_artifact(cm_path)\n",
        "\n",
        "    # Log the trained model\n",
        "    mlflow.sklearn.log_model(model, \"random_forest_model\")\n",
        "\n",
        "    # Save and log the dataset used for this run\n",
        "    dataset_path = \"artifacts/dataset.csv\"\n",
        "    df.to_csv(dataset_path, index=False)\n",
        "    mlflow.log_artifact(dataset_path)\n",
        "\n",
        "# Display final accuracy\n",
        "print(f\"Accuracy: {accuracy}\")"
      ]
    },
    {
      "cell_type": "code",
      "execution_count": 26,
      "metadata": {
        "colab": {
          "base_uri": "https://localhost:8080/"
        },
        "id": "4dEHQmkMcbsF",
        "outputId": "6b066f0e-3bb1-423c-ea2c-c87239f203a5"
      },
      "outputs": [
        {
          "name": "stdout",
          "output_type": "stream",
          "text": [
            "              precision    recall  f1-score   support\n",
            "\n",
            "          -1       1.00      0.01      0.01      1650\n",
            "           0       0.67      0.83      0.74      2555\n",
            "           1       0.63      0.84      0.72      3154\n",
            "\n",
            "    accuracy                           0.65      7359\n",
            "   macro avg       0.77      0.56      0.49      7359\n",
            "weighted avg       0.73      0.65      0.57      7359\n",
            "\n"
          ]
        }
      ],
      "source": [
        "print(classification_report(y_test, y_pred))"
      ]
    },
    {
      "cell_type": "code",
      "execution_count": 27,
      "metadata": {
        "id": "3FJARjXcckS6"
      },
      "outputs": [],
      "source": [
        "df.to_csv('reddit_preprocessing.csv', index=False)"
      ]
    },
    {
      "cell_type": "code",
      "execution_count": 28,
      "metadata": {
        "colab": {
          "base_uri": "https://localhost:8080/",
          "height": 206
        },
        "id": "SnJl6IRhi38R",
        "outputId": "a44f24fa-f1c6-4330-8885-beda62cfe5b8"
      },
      "outputs": [
        {
          "data": {
            "application/vnd.google.colaboratory.intrinsic+json": {
              "summary": "{\n  \"name\": \"pd\",\n  \"rows\": 5,\n  \"fields\": [\n    {\n      \"column\": \"clean_comment\",\n      \"properties\": {\n        \"dtype\": \"string\",\n        \"num_unique_values\": 5,\n        \"samples\": [\n          \"buddhism much lot compatible christianity especially considering sin suffering almost thing suffering caused wanting thing want going getting thing wrong way christian would mean wanting thing coincide god wanting thing coincide but without aid jesus buddhism could also seen proof god mighty omnipotence certainly christian lucky one christ side but everyone else well many christian believe god grace salvation buddhism god way showing grace upon others would also help study thing jesus said see buddha made similar claim rich man getting heaven joke basically advocating rid material possession fact distinctly remembered jesus making someone cry someone asked achieve salvation jesus replied live like buddhist roughly translated also point buddha rarely spoke anything god theory personally knew well enough leave jesus mohamed came later remember conflict difference opinion but education fun involving enlightening easier teach something prove right like intelligent design\",\n          \"benefit may want read living buddha living christ thich nhat hanh might find subsequent discussion loved one easier able articulate parallel exist buddhism christianity surprised react negatively lost treat compassion deserved understanding although may indeed display sign hurt new path properly sharing way may alleviate fear something may perceive wrong least alien belief may help allowing long run accept although not necessarily agree decision regardless end make way\",\n          \"seriously say thing first get complex explain normal people anyway dogmatic matter say see mechante post reason decide later life move buddhism suit identity though still get keep wisdom family treat like went weird hippy phase didncha never hear end pro tip put one wall jpg\"\n        ],\n        \"semantic_type\": \"\",\n        \"description\": \"\"\n      }\n    },\n    {\n      \"column\": \"category\",\n      \"properties\": {\n        \"dtype\": \"number\",\n        \"std\": 0,\n        \"min\": -1,\n        \"max\": 1,\n        \"num_unique_values\": 3,\n        \"samples\": [\n          1,\n          -1,\n          0\n        ],\n        \"semantic_type\": \"\",\n        \"description\": \"\"\n      }\n    }\n  ]\n}",
              "type": "dataframe"
            },
            "text/html": [
              "\n",
              "  <div id=\"df-b81ee107-d10e-4551-9653-a21d22fa4d5f\" class=\"colab-df-container\">\n",
              "    <div>\n",
              "<style scoped>\n",
              "    .dataframe tbody tr th:only-of-type {\n",
              "        vertical-align: middle;\n",
              "    }\n",
              "\n",
              "    .dataframe tbody tr th {\n",
              "        vertical-align: top;\n",
              "    }\n",
              "\n",
              "    .dataframe thead th {\n",
              "        text-align: right;\n",
              "    }\n",
              "</style>\n",
              "<table border=\"1\" class=\"dataframe\">\n",
              "  <thead>\n",
              "    <tr style=\"text-align: right;\">\n",
              "      <th></th>\n",
              "      <th>clean_comment</th>\n",
              "      <th>category</th>\n",
              "    </tr>\n",
              "  </thead>\n",
              "  <tbody>\n",
              "    <tr>\n",
              "      <th>0</th>\n",
              "      <td>family mormon never tried explain still stare ...</td>\n",
              "      <td>1</td>\n",
              "    </tr>\n",
              "    <tr>\n",
              "      <th>1</th>\n",
              "      <td>buddhism much lot compatible christianity espe...</td>\n",
              "      <td>1</td>\n",
              "    </tr>\n",
              "    <tr>\n",
              "      <th>2</th>\n",
              "      <td>seriously say thing first get complex explain ...</td>\n",
              "      <td>-1</td>\n",
              "    </tr>\n",
              "    <tr>\n",
              "      <th>3</th>\n",
              "      <td>learned want teach different focus goal not wr...</td>\n",
              "      <td>0</td>\n",
              "    </tr>\n",
              "    <tr>\n",
              "      <th>4</th>\n",
              "      <td>benefit may want read living buddha living chr...</td>\n",
              "      <td>1</td>\n",
              "    </tr>\n",
              "  </tbody>\n",
              "</table>\n",
              "</div>\n",
              "    <div class=\"colab-df-buttons\">\n",
              "\n",
              "  <div class=\"colab-df-container\">\n",
              "    <button class=\"colab-df-convert\" onclick=\"convertToInteractive('df-b81ee107-d10e-4551-9653-a21d22fa4d5f')\"\n",
              "            title=\"Convert this dataframe to an interactive table.\"\n",
              "            style=\"display:none;\">\n",
              "\n",
              "  <svg xmlns=\"http://www.w3.org/2000/svg\" height=\"24px\" viewBox=\"0 -960 960 960\">\n",
              "    <path d=\"M120-120v-720h720v720H120Zm60-500h600v-160H180v160Zm220 220h160v-160H400v160Zm0 220h160v-160H400v160ZM180-400h160v-160H180v160Zm440 0h160v-160H620v160ZM180-180h160v-160H180v160Zm440 0h160v-160H620v160Z\"/>\n",
              "  </svg>\n",
              "    </button>\n",
              "\n",
              "  <style>\n",
              "    .colab-df-container {\n",
              "      display:flex;\n",
              "      gap: 12px;\n",
              "    }\n",
              "\n",
              "    .colab-df-convert {\n",
              "      background-color: #E8F0FE;\n",
              "      border: none;\n",
              "      border-radius: 50%;\n",
              "      cursor: pointer;\n",
              "      display: none;\n",
              "      fill: #1967D2;\n",
              "      height: 32px;\n",
              "      padding: 0 0 0 0;\n",
              "      width: 32px;\n",
              "    }\n",
              "\n",
              "    .colab-df-convert:hover {\n",
              "      background-color: #E2EBFA;\n",
              "      box-shadow: 0px 1px 2px rgba(60, 64, 67, 0.3), 0px 1px 3px 1px rgba(60, 64, 67, 0.15);\n",
              "      fill: #174EA6;\n",
              "    }\n",
              "\n",
              "    .colab-df-buttons div {\n",
              "      margin-bottom: 4px;\n",
              "    }\n",
              "\n",
              "    [theme=dark] .colab-df-convert {\n",
              "      background-color: #3B4455;\n",
              "      fill: #D2E3FC;\n",
              "    }\n",
              "\n",
              "    [theme=dark] .colab-df-convert:hover {\n",
              "      background-color: #434B5C;\n",
              "      box-shadow: 0px 1px 3px 1px rgba(0, 0, 0, 0.15);\n",
              "      filter: drop-shadow(0px 1px 2px rgba(0, 0, 0, 0.3));\n",
              "      fill: #FFFFFF;\n",
              "    }\n",
              "  </style>\n",
              "\n",
              "    <script>\n",
              "      const buttonEl =\n",
              "        document.querySelector('#df-b81ee107-d10e-4551-9653-a21d22fa4d5f button.colab-df-convert');\n",
              "      buttonEl.style.display =\n",
              "        google.colab.kernel.accessAllowed ? 'block' : 'none';\n",
              "\n",
              "      async function convertToInteractive(key) {\n",
              "        const element = document.querySelector('#df-b81ee107-d10e-4551-9653-a21d22fa4d5f');\n",
              "        const dataTable =\n",
              "          await google.colab.kernel.invokeFunction('convertToInteractive',\n",
              "                                                    [key], {});\n",
              "        if (!dataTable) return;\n",
              "\n",
              "        const docLinkHtml = 'Like what you see? Visit the ' +\n",
              "          '<a target=\"_blank\" href=https://colab.research.google.com/notebooks/data_table.ipynb>data table notebook</a>'\n",
              "          + ' to learn more about interactive tables.';\n",
              "        element.innerHTML = '';\n",
              "        dataTable['output_type'] = 'display_data';\n",
              "        await google.colab.output.renderOutput(dataTable, element);\n",
              "        const docLink = document.createElement('div');\n",
              "        docLink.innerHTML = docLinkHtml;\n",
              "        element.appendChild(docLink);\n",
              "      }\n",
              "    </script>\n",
              "  </div>\n",
              "\n",
              "\n",
              "<div id=\"df-8240b0cf-5844-4224-bb17-5c30499fd31e\">\n",
              "  <button class=\"colab-df-quickchart\" onclick=\"quickchart('df-8240b0cf-5844-4224-bb17-5c30499fd31e')\"\n",
              "            title=\"Suggest charts\"\n",
              "            style=\"display:none;\">\n",
              "\n",
              "<svg xmlns=\"http://www.w3.org/2000/svg\" height=\"24px\"viewBox=\"0 0 24 24\"\n",
              "     width=\"24px\">\n",
              "    <g>\n",
              "        <path d=\"M19 3H5c-1.1 0-2 .9-2 2v14c0 1.1.9 2 2 2h14c1.1 0 2-.9 2-2V5c0-1.1-.9-2-2-2zM9 17H7v-7h2v7zm4 0h-2V7h2v10zm4 0h-2v-4h2v4z\"/>\n",
              "    </g>\n",
              "</svg>\n",
              "  </button>\n",
              "\n",
              "<style>\n",
              "  .colab-df-quickchart {\n",
              "      --bg-color: #E8F0FE;\n",
              "      --fill-color: #1967D2;\n",
              "      --hover-bg-color: #E2EBFA;\n",
              "      --hover-fill-color: #174EA6;\n",
              "      --disabled-fill-color: #AAA;\n",
              "      --disabled-bg-color: #DDD;\n",
              "  }\n",
              "\n",
              "  [theme=dark] .colab-df-quickchart {\n",
              "      --bg-color: #3B4455;\n",
              "      --fill-color: #D2E3FC;\n",
              "      --hover-bg-color: #434B5C;\n",
              "      --hover-fill-color: #FFFFFF;\n",
              "      --disabled-bg-color: #3B4455;\n",
              "      --disabled-fill-color: #666;\n",
              "  }\n",
              "\n",
              "  .colab-df-quickchart {\n",
              "    background-color: var(--bg-color);\n",
              "    border: none;\n",
              "    border-radius: 50%;\n",
              "    cursor: pointer;\n",
              "    display: none;\n",
              "    fill: var(--fill-color);\n",
              "    height: 32px;\n",
              "    padding: 0;\n",
              "    width: 32px;\n",
              "  }\n",
              "\n",
              "  .colab-df-quickchart:hover {\n",
              "    background-color: var(--hover-bg-color);\n",
              "    box-shadow: 0 1px 2px rgba(60, 64, 67, 0.3), 0 1px 3px 1px rgba(60, 64, 67, 0.15);\n",
              "    fill: var(--button-hover-fill-color);\n",
              "  }\n",
              "\n",
              "  .colab-df-quickchart-complete:disabled,\n",
              "  .colab-df-quickchart-complete:disabled:hover {\n",
              "    background-color: var(--disabled-bg-color);\n",
              "    fill: var(--disabled-fill-color);\n",
              "    box-shadow: none;\n",
              "  }\n",
              "\n",
              "  .colab-df-spinner {\n",
              "    border: 2px solid var(--fill-color);\n",
              "    border-color: transparent;\n",
              "    border-bottom-color: var(--fill-color);\n",
              "    animation:\n",
              "      spin 1s steps(1) infinite;\n",
              "  }\n",
              "\n",
              "  @keyframes spin {\n",
              "    0% {\n",
              "      border-color: transparent;\n",
              "      border-bottom-color: var(--fill-color);\n",
              "      border-left-color: var(--fill-color);\n",
              "    }\n",
              "    20% {\n",
              "      border-color: transparent;\n",
              "      border-left-color: var(--fill-color);\n",
              "      border-top-color: var(--fill-color);\n",
              "    }\n",
              "    30% {\n",
              "      border-color: transparent;\n",
              "      border-left-color: var(--fill-color);\n",
              "      border-top-color: var(--fill-color);\n",
              "      border-right-color: var(--fill-color);\n",
              "    }\n",
              "    40% {\n",
              "      border-color: transparent;\n",
              "      border-right-color: var(--fill-color);\n",
              "      border-top-color: var(--fill-color);\n",
              "    }\n",
              "    60% {\n",
              "      border-color: transparent;\n",
              "      border-right-color: var(--fill-color);\n",
              "    }\n",
              "    80% {\n",
              "      border-color: transparent;\n",
              "      border-right-color: var(--fill-color);\n",
              "      border-bottom-color: var(--fill-color);\n",
              "    }\n",
              "    90% {\n",
              "      border-color: transparent;\n",
              "      border-bottom-color: var(--fill-color);\n",
              "    }\n",
              "  }\n",
              "</style>\n",
              "\n",
              "  <script>\n",
              "    async function quickchart(key) {\n",
              "      const quickchartButtonEl =\n",
              "        document.querySelector('#' + key + ' button');\n",
              "      quickchartButtonEl.disabled = true;  // To prevent multiple clicks.\n",
              "      quickchartButtonEl.classList.add('colab-df-spinner');\n",
              "      try {\n",
              "        const charts = await google.colab.kernel.invokeFunction(\n",
              "            'suggestCharts', [key], {});\n",
              "      } catch (error) {\n",
              "        console.error('Error during call to suggestCharts:', error);\n",
              "      }\n",
              "      quickchartButtonEl.classList.remove('colab-df-spinner');\n",
              "      quickchartButtonEl.classList.add('colab-df-quickchart-complete');\n",
              "    }\n",
              "    (() => {\n",
              "      let quickchartButtonEl =\n",
              "        document.querySelector('#df-8240b0cf-5844-4224-bb17-5c30499fd31e button');\n",
              "      quickchartButtonEl.style.display =\n",
              "        google.colab.kernel.accessAllowed ? 'block' : 'none';\n",
              "    })();\n",
              "  </script>\n",
              "</div>\n",
              "\n",
              "    </div>\n",
              "  </div>\n"
            ],
            "text/plain": [
              "                                       clean_comment  category\n",
              "0  family mormon never tried explain still stare ...         1\n",
              "1  buddhism much lot compatible christianity espe...         1\n",
              "2  seriously say thing first get complex explain ...        -1\n",
              "3  learned want teach different focus goal not wr...         0\n",
              "4  benefit may want read living buddha living chr...         1"
            ]
          },
          "execution_count": 28,
          "metadata": {},
          "output_type": "execute_result"
        }
      ],
      "source": [
        "pd.read_csv('reddit_preprocessing.csv').head()"
      ]
    },
    {
      "cell_type": "code",
      "execution_count": null,
      "metadata": {
        "id": "bkTc6t34jCzA"
      },
      "outputs": [],
      "source": []
    }
  ],
  "metadata": {
    "colab": {
      "provenance": []
    },
    "kernelspec": {
      "display_name": "Python 3",
      "name": "python3"
    },
    "language_info": {
      "name": "python",
      "version": "3.11.0"
    }
  },
  "nbformat": 4,
  "nbformat_minor": 0
}
