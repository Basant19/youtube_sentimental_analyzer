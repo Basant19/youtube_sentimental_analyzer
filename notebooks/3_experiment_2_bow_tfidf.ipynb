{
  "cells": [
    {
      "cell_type": "markdown",
      "metadata": {
        "id": "xWtxlBuhCrYV"
      },
      "source": []
    },
    {
      "cell_type": "markdown",
      "metadata": {
        "id": "fz2DOoos_1KQ"
      },
      "source": [
        "# Which vectorization?"
      ]
    },
    {
      "cell_type": "code",
      "execution_count": 2,
      "metadata": {
        "colab": {
          "base_uri": "https://localhost:8080/"
        },
        "id": "hI2g8hNmkYBL",
        "outputId": "55f00cae-0bad-447d-b194-00e59547333e"
      },
      "outputs": [
        {
          "name": "stdout",
          "output_type": "stream",
          "text": [
            "Requirement already satisfied: mlflow in d:\\bybappy\\youtube_sentimental_analyzer\\venv\\lib\\site-packages (2.17.0)\n",
            "Requirement already satisfied: boto3 in d:\\bybappy\\youtube_sentimental_analyzer\\venv\\lib\\site-packages (1.35.36)\n",
            "Requirement already satisfied: awscli in d:\\bybappy\\youtube_sentimental_analyzer\\venv\\lib\\site-packages (1.36.40)\n",
            "Requirement already satisfied: mlflow-skinny==2.17.0 in d:\\bybappy\\youtube_sentimental_analyzer\\venv\\lib\\site-packages (from mlflow) (2.17.0)\n",
            "Requirement already satisfied: Flask<4 in d:\\bybappy\\youtube_sentimental_analyzer\\venv\\lib\\site-packages (from mlflow) (3.0.3)\n",
            "Requirement already satisfied: alembic!=1.10.0,<2 in d:\\bybappy\\youtube_sentimental_analyzer\\venv\\lib\\site-packages (from mlflow) (1.16.4)\n",
            "Requirement already satisfied: docker<8,>=4.0.0 in d:\\bybappy\\youtube_sentimental_analyzer\\venv\\lib\\site-packages (from mlflow) (7.1.0)\n",
            "Requirement already satisfied: graphene<4 in d:\\bybappy\\youtube_sentimental_analyzer\\venv\\lib\\site-packages (from mlflow) (3.4.3)\n",
            "Requirement already satisfied: markdown<4,>=3.3 in d:\\bybappy\\youtube_sentimental_analyzer\\venv\\lib\\site-packages (from mlflow) (3.8.2)\n",
            "Requirement already satisfied: matplotlib<4 in d:\\bybappy\\youtube_sentimental_analyzer\\venv\\lib\\site-packages (from mlflow) (3.9.2)\n",
            "Requirement already satisfied: numpy<3 in d:\\bybappy\\youtube_sentimental_analyzer\\venv\\lib\\site-packages (from mlflow) (1.24.4)\n",
            "Requirement already satisfied: pandas<3 in d:\\bybappy\\youtube_sentimental_analyzer\\venv\\lib\\site-packages (from mlflow) (2.2.3)\n",
            "Requirement already satisfied: pyarrow<18,>=4.0.0 in d:\\bybappy\\youtube_sentimental_analyzer\\venv\\lib\\site-packages (from mlflow) (17.0.0)\n",
            "Requirement already satisfied: scikit-learn<2 in c:\\users\\btirk\\appdata\\roaming\\python\\python311\\site-packages (from mlflow) (1.6.1)\n",
            "Requirement already satisfied: scipy<2 in c:\\users\\btirk\\appdata\\roaming\\python\\python311\\site-packages (from mlflow) (1.15.2)\n",
            "Requirement already satisfied: sqlalchemy<3,>=1.4.0 in d:\\bybappy\\youtube_sentimental_analyzer\\venv\\lib\\site-packages (from mlflow) (2.0.41)\n",
            "Requirement already satisfied: Jinja2<4,>=3.0 in c:\\users\\btirk\\appdata\\roaming\\python\\python311\\site-packages (from mlflow) (3.1.6)\n",
            "Requirement already satisfied: waitress<4 in d:\\bybappy\\youtube_sentimental_analyzer\\venv\\lib\\site-packages (from mlflow) (3.0.2)\n",
            "Requirement already satisfied: cachetools<6,>=5.0.0 in d:\\bybappy\\youtube_sentimental_analyzer\\venv\\lib\\site-packages (from mlflow-skinny==2.17.0->mlflow) (5.5.2)\n",
            "Requirement already satisfied: click<9,>=7.0 in c:\\users\\btirk\\appdata\\roaming\\python\\python311\\site-packages (from mlflow-skinny==2.17.0->mlflow) (8.1.8)\n",
            "Requirement already satisfied: cloudpickle<4 in d:\\bybappy\\youtube_sentimental_analyzer\\venv\\lib\\site-packages (from mlflow-skinny==2.17.0->mlflow) (3.1.1)\n",
            "Requirement already satisfied: databricks-sdk<1,>=0.20.0 in d:\\bybappy\\youtube_sentimental_analyzer\\venv\\lib\\site-packages (from mlflow-skinny==2.17.0->mlflow) (0.58.0)\n",
            "Requirement already satisfied: gitpython<4,>=3.1.9 in d:\\bybappy\\youtube_sentimental_analyzer\\venv\\lib\\site-packages (from mlflow-skinny==2.17.0->mlflow) (3.1.44)\n",
            "Requirement already satisfied: importlib-metadata!=4.7.0,<9,>=3.7.0 in d:\\bybappy\\youtube_sentimental_analyzer\\venv\\lib\\site-packages (from mlflow-skinny==2.17.0->mlflow) (8.7.0)\n",
            "Requirement already satisfied: opentelemetry-api<3,>=1.9.0 in d:\\bybappy\\youtube_sentimental_analyzer\\venv\\lib\\site-packages (from mlflow-skinny==2.17.0->mlflow) (1.35.0)\n",
            "Requirement already satisfied: opentelemetry-sdk<3,>=1.9.0 in d:\\bybappy\\youtube_sentimental_analyzer\\venv\\lib\\site-packages (from mlflow-skinny==2.17.0->mlflow) (1.35.0)\n",
            "Requirement already satisfied: packaging<25 in c:\\users\\btirk\\appdata\\roaming\\python\\python311\\site-packages (from mlflow-skinny==2.17.0->mlflow) (24.2)\n",
            "Requirement already satisfied: protobuf<6,>=3.12.0 in d:\\bybappy\\youtube_sentimental_analyzer\\venv\\lib\\site-packages (from mlflow-skinny==2.17.0->mlflow) (5.29.5)\n",
            "Requirement already satisfied: pyyaml<7,>=5.1 in c:\\users\\btirk\\appdata\\roaming\\python\\python311\\site-packages (from mlflow-skinny==2.17.0->mlflow) (6.0.2)\n",
            "Requirement already satisfied: requests<3,>=2.17.3 in c:\\users\\btirk\\appdata\\roaming\\python\\python311\\site-packages (from mlflow-skinny==2.17.0->mlflow) (2.32.3)\n",
            "Requirement already satisfied: sqlparse<1,>=0.4.0 in d:\\bybappy\\youtube_sentimental_analyzer\\venv\\lib\\site-packages (from mlflow-skinny==2.17.0->mlflow) (0.5.3)\n",
            "Requirement already satisfied: Mako in d:\\bybappy\\youtube_sentimental_analyzer\\venv\\lib\\site-packages (from alembic!=1.10.0,<2->mlflow) (1.3.10)\n",
            "Requirement already satisfied: typing-extensions>=4.12 in c:\\users\\btirk\\appdata\\roaming\\python\\python311\\site-packages (from alembic!=1.10.0,<2->mlflow) (4.12.2)\n",
            "Requirement already satisfied: colorama in c:\\users\\btirk\\appdata\\roaming\\python\\python311\\site-packages (from click<9,>=7.0->mlflow-skinny==2.17.0->mlflow) (0.4.6)\n",
            "Requirement already satisfied: google-auth~=2.0 in d:\\bybappy\\youtube_sentimental_analyzer\\venv\\lib\\site-packages (from databricks-sdk<1,>=0.20.0->mlflow-skinny==2.17.0->mlflow) (2.40.3)\n",
            "Requirement already satisfied: pywin32>=304 in c:\\users\\btirk\\appdata\\roaming\\python\\python311\\site-packages (from docker<8,>=4.0.0->mlflow) (306)\n",
            "Requirement already satisfied: urllib3>=1.26.0 in c:\\users\\btirk\\appdata\\roaming\\python\\python311\\site-packages (from docker<8,>=4.0.0->mlflow) (2.3.0)\n",
            "Requirement already satisfied: Werkzeug>=3.0.0 in d:\\bybappy\\youtube_sentimental_analyzer\\venv\\lib\\site-packages (from Flask<4->mlflow) (3.1.3)\n",
            "Requirement already satisfied: itsdangerous>=2.1.2 in d:\\bybappy\\youtube_sentimental_analyzer\\venv\\lib\\site-packages (from Flask<4->mlflow) (2.2.0)\n",
            "Requirement already satisfied: blinker>=1.6.2 in d:\\bybappy\\youtube_sentimental_analyzer\\venv\\lib\\site-packages (from Flask<4->mlflow) (1.9.0)\n",
            "Requirement already satisfied: gitdb<5,>=4.0.1 in d:\\bybappy\\youtube_sentimental_analyzer\\venv\\lib\\site-packages (from gitpython<4,>=3.1.9->mlflow-skinny==2.17.0->mlflow) (4.0.12)\n",
            "Requirement already satisfied: smmap<6,>=3.0.1 in d:\\bybappy\\youtube_sentimental_analyzer\\venv\\lib\\site-packages (from gitdb<5,>=4.0.1->gitpython<4,>=3.1.9->mlflow-skinny==2.17.0->mlflow) (5.0.2)\n",
            "Requirement already satisfied: pyasn1-modules>=0.2.1 in d:\\bybappy\\youtube_sentimental_analyzer\\venv\\lib\\site-packages (from google-auth~=2.0->databricks-sdk<1,>=0.20.0->mlflow-skinny==2.17.0->mlflow) (0.4.2)\n",
            "Requirement already satisfied: rsa<5,>=3.1.4 in d:\\bybappy\\youtube_sentimental_analyzer\\venv\\lib\\site-packages (from google-auth~=2.0->databricks-sdk<1,>=0.20.0->mlflow-skinny==2.17.0->mlflow) (4.7.2)\n",
            "Requirement already satisfied: graphql-core<3.3,>=3.1 in d:\\bybappy\\youtube_sentimental_analyzer\\venv\\lib\\site-packages (from graphene<4->mlflow) (3.2.6)\n",
            "Requirement already satisfied: graphql-relay<3.3,>=3.1 in d:\\bybappy\\youtube_sentimental_analyzer\\venv\\lib\\site-packages (from graphene<4->mlflow) (3.2.0)\n",
            "Requirement already satisfied: python-dateutil<3,>=2.7.0 in c:\\users\\btirk\\appdata\\roaming\\python\\python311\\site-packages (from graphene<4->mlflow) (2.9.0.post0)\n",
            "Requirement already satisfied: zipp>=3.20 in d:\\bybappy\\youtube_sentimental_analyzer\\venv\\lib\\site-packages (from importlib-metadata!=4.7.0,<9,>=3.7.0->mlflow-skinny==2.17.0->mlflow) (3.23.0)\n",
            "Requirement already satisfied: MarkupSafe>=2.0 in c:\\users\\btirk\\appdata\\roaming\\python\\python311\\site-packages (from Jinja2<4,>=3.0->mlflow) (3.0.2)\n",
            "Requirement already satisfied: contourpy>=1.0.1 in c:\\users\\btirk\\appdata\\roaming\\python\\python311\\site-packages (from matplotlib<4->mlflow) (1.3.1)\n",
            "Requirement already satisfied: cycler>=0.10 in c:\\users\\btirk\\appdata\\roaming\\python\\python311\\site-packages (from matplotlib<4->mlflow) (0.12.1)\n",
            "Requirement already satisfied: fonttools>=4.22.0 in c:\\users\\btirk\\appdata\\roaming\\python\\python311\\site-packages (from matplotlib<4->mlflow) (4.56.0)\n",
            "Requirement already satisfied: kiwisolver>=1.3.1 in c:\\users\\btirk\\appdata\\roaming\\python\\python311\\site-packages (from matplotlib<4->mlflow) (1.4.8)\n",
            "Requirement already satisfied: pillow>=8 in c:\\users\\btirk\\appdata\\roaming\\python\\python311\\site-packages (from matplotlib<4->mlflow) (11.1.0)\n",
            "Requirement already satisfied: pyparsing>=2.3.1 in c:\\users\\btirk\\appdata\\roaming\\python\\python311\\site-packages (from matplotlib<4->mlflow) (3.2.1)\n",
            "Requirement already satisfied: opentelemetry-semantic-conventions==0.56b0 in d:\\bybappy\\youtube_sentimental_analyzer\\venv\\lib\\site-packages (from opentelemetry-sdk<3,>=1.9.0->mlflow-skinny==2.17.0->mlflow) (0.56b0)\n",
            "Requirement already satisfied: pytz>=2020.1 in d:\\bybappy\\youtube_sentimental_analyzer\\venv\\lib\\site-packages (from pandas<3->mlflow) (2025.2)\n",
            "Requirement already satisfied: tzdata>=2022.7 in d:\\bybappy\\youtube_sentimental_analyzer\\venv\\lib\\site-packages (from pandas<3->mlflow) (2025.2)\n",
            "Requirement already satisfied: six>=1.5 in d:\\bybappy\\youtube_sentimental_analyzer\\venv\\lib\\site-packages (from python-dateutil<3,>=2.7.0->graphene<4->mlflow) (1.17.0)\n",
            "Requirement already satisfied: charset-normalizer<4,>=2 in c:\\users\\btirk\\appdata\\roaming\\python\\python311\\site-packages (from requests<3,>=2.17.3->mlflow-skinny==2.17.0->mlflow) (3.4.1)\n",
            "Requirement already satisfied: idna<4,>=2.5 in c:\\users\\btirk\\appdata\\roaming\\python\\python311\\site-packages (from requests<3,>=2.17.3->mlflow-skinny==2.17.0->mlflow) (3.10)\n",
            "Requirement already satisfied: certifi>=2017.4.17 in c:\\users\\btirk\\appdata\\roaming\\python\\python311\\site-packages (from requests<3,>=2.17.3->mlflow-skinny==2.17.0->mlflow) (2025.1.31)\n",
            "Requirement already satisfied: pyasn1>=0.1.3 in d:\\bybappy\\youtube_sentimental_analyzer\\venv\\lib\\site-packages (from rsa<5,>=3.1.4->google-auth~=2.0->databricks-sdk<1,>=0.20.0->mlflow-skinny==2.17.0->mlflow) (0.6.1)\n",
            "Requirement already satisfied: joblib>=1.2.0 in c:\\users\\btirk\\appdata\\roaming\\python\\python311\\site-packages (from scikit-learn<2->mlflow) (1.4.2)\n",
            "Requirement already satisfied: threadpoolctl>=3.1.0 in c:\\users\\btirk\\appdata\\roaming\\python\\python311\\site-packages (from scikit-learn<2->mlflow) (3.6.0)\n",
            "Requirement already satisfied: greenlet>=1 in d:\\bybappy\\youtube_sentimental_analyzer\\venv\\lib\\site-packages (from sqlalchemy<3,>=1.4.0->mlflow) (3.2.3)\n",
            "Requirement already satisfied: botocore<1.36.0,>=1.35.36 in d:\\bybappy\\youtube_sentimental_analyzer\\venv\\lib\\site-packages (from boto3) (1.35.99)\n",
            "Requirement already satisfied: jmespath<2.0.0,>=0.7.1 in c:\\users\\btirk\\appdata\\roaming\\python\\python311\\site-packages (from boto3) (1.0.1)\n",
            "Requirement already satisfied: s3transfer<0.11.0,>=0.10.0 in d:\\bybappy\\youtube_sentimental_analyzer\\venv\\lib\\site-packages (from boto3) (0.10.4)\n",
            "Requirement already satisfied: docutils<0.17,>=0.10 in d:\\bybappy\\youtube_sentimental_analyzer\\venv\\lib\\site-packages (from awscli) (0.16)\n"
          ]
        }
      ],
      "source": [
        "!pip install mlflow boto3 awscli"
      ]
    },
    {
      "cell_type": "code",
      "execution_count": null,
      "metadata": {},
      "outputs": [],
      "source": []
    },
    {
      "cell_type": "code",
      "execution_count": 4,
      "metadata": {
        "id": "DmfxCCFNlO3Q"
      },
      "outputs": [],
      "source": [
        "import mlflow\n",
        "import os\n",
        "# Step 2: Set up the MLflow tracking server\n",
        "mlflow.set_tracking_uri(os.getenv(\"MLFLOW_SERVER_TRACKING_URI_EC2\"))"
      ]
    },
    {
      "cell_type": "code",
      "execution_count": 5,
      "metadata": {
        "colab": {
          "base_uri": "https://localhost:8080/"
        },
        "id": "Zan6jEqglYPS",
        "outputId": "1f5373ea-e4b8-46a3-ac6a-c13352c36de9"
      },
      "outputs": [
        {
          "name": "stderr",
          "output_type": "stream",
          "text": [
            "2025/07/16 19:11:58 INFO mlflow.tracking.fluent: Experiment with name 'Exp 2 - BoW vs TfIdf' does not exist. Creating a new experiment.\n"
          ]
        },
        {
          "data": {
            "text/plain": [
              "<Experiment: artifact_location='s3://youtube-sentimental-bucket/356399685852430345', creation_time=1752673322579, experiment_id='356399685852430345', last_update_time=1752673322579, lifecycle_stage='active', name='Exp 2 - BoW vs TfIdf', tags={}>"
            ]
          },
          "execution_count": 5,
          "metadata": {},
          "output_type": "execute_result"
        }
      ],
      "source": [
        "# Set or create an experiment\n",
        "mlflow.set_experiment(\"Exp 2 - BoW vs TfIdf\")"
      ]
    },
    {
      "cell_type": "code",
      "execution_count": 6,
      "metadata": {
        "id": "4B6s4MsqlveI"
      },
      "outputs": [],
      "source": [
        "from sklearn.feature_extraction.text import CountVectorizer, TfidfVectorizer\n",
        "from sklearn.ensemble import RandomForestClassifier\n",
        "from sklearn.model_selection import train_test_split\n",
        "from sklearn.metrics import accuracy_score, classification_report, confusion_matrix\n",
        "import mlflow.sklearn\n",
        "import matplotlib.pyplot as plt\n",
        "import seaborn as sns\n",
        "import pandas as pd\n",
        "import os"
      ]
    },
    {
      "cell_type": "code",
      "execution_count": 8,
      "metadata": {
        "colab": {
          "base_uri": "https://localhost:8080/"
        },
        "id": "BvkWQ-SYl0rY",
        "outputId": "2fa13613-2bcb-4b2f-ce18-d0d123c05893"
      },
      "outputs": [
        {
          "data": {
            "text/plain": [
              "(36662, 2)"
            ]
          },
          "execution_count": 8,
          "metadata": {},
          "output_type": "execute_result"
        }
      ],
      "source": [
        "df = pd.read_csv(r'D:\\bybappy\\youtube_sentimental_analyzer\\notebooks\\artifacts\\dataset.csv').dropna(subset=['clean_comment'])\n",
        "df.shape"
      ]
    },
    {
      "cell_type": "code",
      "execution_count": 9,
      "metadata": {
        "colab": {
          "base_uri": "https://localhost:8080/"
        },
        "id": "RejOAvqgkwM0",
        "outputId": "1b014cb1-1ec7-4683-8660-eb5198329263"
      },
      "outputs": [
        {
          "name": "stderr",
          "output_type": "stream",
          "text": [
            "2025/07/16 19:15:26 WARNING mlflow.models.model: Model logged without a signature and input example. Please set `input_example` parameter when logging the model to auto infer the model signature.\n",
            "2025/07/16 19:16:01 INFO mlflow.tracking._tracking_service.client: 🏃 View run BoW_(1, 1)_RandomForest at: http://ec2-54-196-196-75.compute-1.amazonaws.com:5000/#/experiments/356399685852430345/runs/8f488e4611464997bd6270fe93acbbdc.\n",
            "2025/07/16 19:16:01 INFO mlflow.tracking._tracking_service.client: 🧪 View experiment at: http://ec2-54-196-196-75.compute-1.amazonaws.com:5000/#/experiments/356399685852430345.\n",
            "2025/07/16 19:16:29 WARNING mlflow.models.model: Model logged without a signature and input example. Please set `input_example` parameter when logging the model to auto infer the model signature.\n",
            "2025/07/16 19:17:06 INFO mlflow.tracking._tracking_service.client: 🏃 View run TF-IDF_(1, 1)_RandomForest at: http://ec2-54-196-196-75.compute-1.amazonaws.com:5000/#/experiments/356399685852430345/runs/b5f55d255da2425893044f0d7c2c68d4.\n",
            "2025/07/16 19:17:06 INFO mlflow.tracking._tracking_service.client: 🧪 View experiment at: http://ec2-54-196-196-75.compute-1.amazonaws.com:5000/#/experiments/356399685852430345.\n",
            "2025/07/16 19:17:33 WARNING mlflow.models.model: Model logged without a signature and input example. Please set `input_example` parameter when logging the model to auto infer the model signature.\n",
            "2025/07/16 19:18:10 INFO mlflow.tracking._tracking_service.client: 🏃 View run BoW_(1, 2)_RandomForest at: http://ec2-54-196-196-75.compute-1.amazonaws.com:5000/#/experiments/356399685852430345/runs/9c5c07b63b6c46a995c8f23fc1dd19ea.\n",
            "2025/07/16 19:18:10 INFO mlflow.tracking._tracking_service.client: 🧪 View experiment at: http://ec2-54-196-196-75.compute-1.amazonaws.com:5000/#/experiments/356399685852430345.\n",
            "2025/07/16 19:18:38 WARNING mlflow.models.model: Model logged without a signature and input example. Please set `input_example` parameter when logging the model to auto infer the model signature.\n",
            "2025/07/16 19:19:15 INFO mlflow.tracking._tracking_service.client: 🏃 View run TF-IDF_(1, 2)_RandomForest at: http://ec2-54-196-196-75.compute-1.amazonaws.com:5000/#/experiments/356399685852430345/runs/d2e219ca5e02467eb4e58c990dd20dd2.\n",
            "2025/07/16 19:19:15 INFO mlflow.tracking._tracking_service.client: 🧪 View experiment at: http://ec2-54-196-196-75.compute-1.amazonaws.com:5000/#/experiments/356399685852430345.\n",
            "2025/07/16 19:19:44 WARNING mlflow.models.model: Model logged without a signature and input example. Please set `input_example` parameter when logging the model to auto infer the model signature.\n",
            "2025/07/16 19:20:21 INFO mlflow.tracking._tracking_service.client: 🏃 View run BoW_(1, 3)_RandomForest at: http://ec2-54-196-196-75.compute-1.amazonaws.com:5000/#/experiments/356399685852430345/runs/a12e6464737b4a64b53696c3c76680ab.\n",
            "2025/07/16 19:20:21 INFO mlflow.tracking._tracking_service.client: 🧪 View experiment at: http://ec2-54-196-196-75.compute-1.amazonaws.com:5000/#/experiments/356399685852430345.\n",
            "2025/07/16 19:20:51 WARNING mlflow.models.model: Model logged without a signature and input example. Please set `input_example` parameter when logging the model to auto infer the model signature.\n",
            "2025/07/16 19:21:27 INFO mlflow.tracking._tracking_service.client: 🏃 View run TF-IDF_(1, 3)_RandomForest at: http://ec2-54-196-196-75.compute-1.amazonaws.com:5000/#/experiments/356399685852430345/runs/3f41d568b63b429682ac265114b440da.\n",
            "2025/07/16 19:21:27 INFO mlflow.tracking._tracking_service.client: 🧪 View experiment at: http://ec2-54-196-196-75.compute-1.amazonaws.com:5000/#/experiments/356399685852430345.\n"
          ]
        }
      ],
      "source": [
        "import os\n",
        "import mlflow\n",
        "import mlflow.sklearn\n",
        "import matplotlib.pyplot as plt\n",
        "import seaborn as sns\n",
        "import pandas as pd\n",
        "from sklearn.model_selection import train_test_split\n",
        "from sklearn.ensemble import RandomForestClassifier\n",
        "from sklearn.metrics import accuracy_score, classification_report, confusion_matrix\n",
        "from sklearn.feature_extraction.text import CountVectorizer, TfidfVectorizer\n",
        "\n",
        "# Ensure artifacts directory exists\n",
        "os.makedirs(\"artifacts\", exist_ok=True)\n",
        "\n",
        "# Step 1: Function to run the experiment\n",
        "def run_experiment(vectorizer_type, ngram_range, vectorizer_max_features, vectorizer_name):\n",
        "    # Step 2: Vectorization\n",
        "    if vectorizer_type == \"BoW\":\n",
        "        vectorizer = CountVectorizer(ngram_range=ngram_range, max_features=vectorizer_max_features)\n",
        "    else:\n",
        "        vectorizer = TfidfVectorizer(ngram_range=ngram_range, max_features=vectorizer_max_features)\n",
        "\n",
        "    X_train, X_test, y_train, y_test = train_test_split(\n",
        "        df['clean_comment'], df['category'], test_size=0.2, random_state=42, stratify=df['category']\n",
        "    )\n",
        "\n",
        "    X_train = vectorizer.fit_transform(X_train)\n",
        "    X_test = vectorizer.transform(X_test)\n",
        "\n",
        "    # Step 4: Define and train a Random Forest model\n",
        "    with mlflow.start_run() as run:\n",
        "        # Set tags\n",
        "        mlflow.set_tag(\"mlflow.runName\", f\"{vectorizer_name}_{ngram_range}_RandomForest\")\n",
        "        mlflow.set_tag(\"experiment_type\", \"feature_engineering\")\n",
        "        mlflow.set_tag(\"model_type\", \"RandomForestClassifier\")\n",
        "        mlflow.set_tag(\"description\", f\"RandomForest with {vectorizer_name}, ngram_range={ngram_range}, max_features={vectorizer_max_features}\")\n",
        "\n",
        "        # Log vectorizer parameters\n",
        "        mlflow.log_param(\"vectorizer_type\", vectorizer_type)\n",
        "        mlflow.log_param(\"ngram_range\", str(ngram_range))  # must be string\n",
        "        mlflow.log_param(\"vectorizer_max_features\", vectorizer_max_features)\n",
        "\n",
        "        # Log model params\n",
        "        n_estimators = 200\n",
        "        max_depth = 15\n",
        "        mlflow.log_param(\"n_estimators\", n_estimators)\n",
        "        mlflow.log_param(\"max_depth\", max_depth)\n",
        "\n",
        "        # Train model\n",
        "        model = RandomForestClassifier(n_estimators=n_estimators, max_depth=max_depth, random_state=42)\n",
        "        model.fit(X_train, y_train)\n",
        "\n",
        "        # Predict\n",
        "        y_pred = model.predict(X_test)\n",
        "\n",
        "        # Log metrics\n",
        "        accuracy = accuracy_score(y_test, y_pred)\n",
        "        mlflow.log_metric(\"accuracy\", accuracy)\n",
        "\n",
        "        classification_rep = classification_report(y_test, y_pred, output_dict=True)\n",
        "        for label, metrics in classification_rep.items():\n",
        "            if isinstance(metrics, dict):\n",
        "                for metric, value in metrics.items():\n",
        "                    mlflow.log_metric(f\"{label}_{metric}\", value)\n",
        "\n",
        "        # Confusion Matrix\n",
        "        conf_matrix = confusion_matrix(y_test, y_pred)\n",
        "        plt.figure(figsize=(8, 6))\n",
        "        sns.heatmap(conf_matrix, annot=True, fmt=\"d\", cmap=\"Blues\")\n",
        "        plt.xlabel(\"Predicted\")\n",
        "        plt.ylabel(\"Actual\")\n",
        "        plt.title(f\"Confusion Matrix: {vectorizer_name}, {ngram_range}\")\n",
        "        \n",
        "        # Save to artifacts with unique name\n",
        "        cm_filename = f\"confusion_matrix_{vectorizer_name}_{ngram_range[0]}_{ngram_range[1]}.png\"\n",
        "        cm_path = os.path.join(\"artifacts\", cm_filename)\n",
        "        plt.savefig(cm_path)\n",
        "        mlflow.log_artifact(cm_path)\n",
        "        plt.close()\n",
        "\n",
        "        # Log model\n",
        "        mlflow.sklearn.log_model(model, f\"random_forest_model_{vectorizer_name}_{ngram_range[0]}_{ngram_range[1]}\")\n",
        "\n",
        "# Step 6: Run experiments for BoW and TF-IDF with different n-grams\n",
        "ngram_ranges = [(1, 1), (1, 2), (1, 3)]\n",
        "max_features = 5000\n",
        "\n",
        "for ngram_range in ngram_ranges:\n",
        "    run_experiment(\"BoW\", ngram_range, max_features, vectorizer_name=\"BoW\")\n",
        "    run_experiment(\"TF-IDF\", ngram_range, max_features, vectorizer_name=\"TF-IDF\")\n"
      ]
    },
    {
      "cell_type": "code",
      "execution_count": null,
      "metadata": {
        "id": "pTtQw8F1lgBB"
      },
      "outputs": [],
      "source": []
    }
  ],
  "metadata": {
    "colab": {
      "provenance": []
    },
    "kernelspec": {
      "display_name": "Python 3",
      "name": "python3"
    },
    "language_info": {
      "codemirror_mode": {
        "name": "ipython",
        "version": 3
      },
      "file_extension": ".py",
      "mimetype": "text/x-python",
      "name": "python",
      "nbconvert_exporter": "python",
      "pygments_lexer": "ipython3",
      "version": "3.11.0"
    }
  },
  "nbformat": 4,
  "nbformat_minor": 0
}
